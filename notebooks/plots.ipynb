{
 "cells": [
  {
   "cell_type": "code",
   "execution_count": 25,
   "id": "933d03b0",
   "metadata": {},
   "outputs": [
    {
     "name": "stdout",
     "output_type": "stream",
     "text": [
      "\n",
      "\n",
      "========================================= ROCm System Management Interface =========================================\n",
      "=================================================== Concise Info ===================================================\n",
      "Device  Node  IDs              Temp    Power  Partitions          SCLK    MCLK     Fan  Perf  PwrCap  VRAM%  GPU%  \n",
      "\u001b[3m              (DID,     GUID)  (Edge)  (Avg)  (Mem, Compute, ID)                                                   \u001b[0m\n",
      "====================================================================================================================\n",
      "0       3     0x740f,   32693  54.0°C  44.0W  N/A, N/A, 0         800Mhz  1600Mhz  0%   auto  300.0W  0%     0%    \n",
      "1       2     0x740f,   42924  51.0°C  41.0W  N/A, N/A, 0         800Mhz  1600Mhz  0%   auto  300.0W  1%     0%    \n",
      "====================================================================================================================\n",
      "=============================================== End of ROCm SMI Log ================================================\n"
     ]
    }
   ],
   "source": [
    "!rocm-smi"
   ]
  },
  {
   "cell_type": "code",
   "execution_count": 26,
   "id": "67e6832b",
   "metadata": {},
   "outputs": [
    {
     "name": "stdout",
     "output_type": "stream",
     "text": [
      "Architecture:            x86_64\n",
      "  CPU op-mode(s):        32-bit, 64-bit\n",
      "  Address sizes:         48 bits physical, 48 bits virtual\n",
      "  Byte Order:            Little Endian\n",
      "CPU(s):                  128\n",
      "  On-line CPU(s) list:   0-127\n",
      "Vendor ID:               AuthenticAMD\n",
      "  Model name:            AMD EPYC 7V13 64-Core Processor\n",
      "    CPU family:          25\n",
      "    Model:               1\n",
      "    Thread(s) per core:  1\n",
      "    Core(s) per socket:  64\n",
      "    Socket(s):           2\n",
      "    Stepping:            1\n",
      "    Frequency boost:     enabled\n",
      "    CPU max MHz:         2450.0000\n",
      "    CPU min MHz:         1500.0000\n",
      "    BogoMIPS:            4890.49\n",
      "    Flags:               fpu vme de pse tsc msr pae mce cx8 apic sep mtrr pge mc\n",
      "                         a cmov pat pse36 clflush mmx fxsr sse sse2 ht syscall n\n",
      "                         x mmxext fxsr_opt pdpe1gb rdtscp lm constant_tsc rep_go\n",
      "                         od nopl nonstop_tsc cpuid extd_apicid aperfmperf rapl p\n",
      "                         ni pclmulqdq monitor ssse3 fma cx16 pcid sse4_1 sse4_2 \n",
      "                         movbe popcnt aes xsave avx f16c rdrand lahf_lm cmp_lega\n",
      "                         cy svm extapic cr8_legacy abm sse4a misalignsse 3dnowpr\n",
      "                         efetch osvw ibs skinit wdt tce topoext perfctr_core per\n",
      "                         fctr_nb bpext perfctr_llc mwaitx cpb cat_l3 cdp_l3 invp\n",
      "                         cid_single hw_pstate ssbd mba ibrs ibpb stibp vmmcall f\n",
      "                         sgsbase bmi1 avx2 smep bmi2 invpcid cqm rdt_a rdseed ad\n",
      "                         x smap clflushopt clwb sha_ni xsaveopt xsavec xgetbv1 x\n",
      "                         saves cqm_llc cqm_occup_llc cqm_mbm_total cqm_mbm_local\n",
      "                          clzero irperf xsaveerptr rdpru wbnoinvd amd_ppin arat \n",
      "                         npt lbrv svm_lock nrip_save tsc_scale vmcb_clean flushb\n",
      "                         yasid decodeassists pausefilter pfthreshold v_vmsave_vm\n",
      "                         load vgif v_spec_ctrl umip pku ospke vaes vpclmulqdq rd\n",
      "                         pid overflow_recov succor smca\n",
      "Virtualization features: \n",
      "  Virtualization:        AMD-V\n",
      "Caches (sum of all):     \n",
      "  L1d:                   4 MiB (128 instances)\n",
      "  L1i:                   4 MiB (128 instances)\n",
      "  L2:                    64 MiB (128 instances)\n",
      "  L3:                    512 MiB (16 instances)\n",
      "NUMA:                    \n",
      "  NUMA node(s):          2\n",
      "  NUMA node0 CPU(s):     0-63\n",
      "  NUMA node1 CPU(s):     64-127\n",
      "Vulnerabilities:         \n",
      "  Itlb multihit:         Not affected\n",
      "  L1tf:                  Not affected\n",
      "  Mds:                   Not affected\n",
      "  Meltdown:              Not affected\n",
      "  Mmio stale data:       Not affected\n",
      "  Retbleed:              Not affected\n",
      "  Spec store bypass:     Mitigation; Speculative Store Bypass disabled via prctl\n",
      "  Spectre v1:            Mitigation; usercopy/swapgs barriers and __user pointer\n",
      "                          sanitization\n",
      "  Spectre v2:            Mitigation; Retpolines, IBPB conditional, IBRS_FW, STIB\n",
      "                         P disabled, RSB filling, PBRSB-eIBRS Not affected\n",
      "  Srbds:                 Not affected\n",
      "  Tsx async abort:       Not affected\n"
     ]
    }
   ],
   "source": [
    "!lscpu "
   ]
  },
  {
   "cell_type": "code",
   "execution_count": 27,
   "id": "72331606",
   "metadata": {},
   "outputs": [
    {
     "name": "stdout",
     "output_type": "stream",
     "text": [
      "True\n",
      "_CudaDeviceProperties(name='AMD Instinct MI210', major=9, minor=0, gcnArchName='gfx90a:sramecc+:xnack-', total_memory=65520MB, multi_processor_count=104, uuid=39653864-3266-6662-3830-396539343634, L2_cache_size=8MB)\n",
      "_CudaDeviceProperties(name='AMD Instinct MI210', major=9, minor=0, gcnArchName='gfx90a:sramecc+:xnack-', total_memory=65520MB, multi_processor_count=104, uuid=35646464-3632-6239-6164-613031343863, L2_cache_size=8MB)\n"
     ]
    }
   ],
   "source": [
    "import torch\n",
    "\n",
    "# check enabled GPU\n",
    "print(torch.cuda.is_available())\n",
    "for i in range(torch.cuda.device_count()):\n",
    "   print(torch.cuda.get_device_properties(i))"
   ]
  },
  {
   "cell_type": "code",
   "execution_count": 28,
   "id": "7e92adc1",
   "metadata": {},
   "outputs": [],
   "source": [
    "version = 4.6"
   ]
  },
  {
   "cell_type": "code",
   "execution_count": 29,
   "id": "05565dd2",
   "metadata": {},
   "outputs": [
    {
     "data": {
      "text/plain": [
       "'plots/4.6/learning-rate.csv'"
      ]
     },
     "execution_count": 29,
     "metadata": {},
     "output_type": "execute_result"
    }
   ],
   "source": [
    "filename = f\"plots/{version:.1f}/learning-rate.csv\"\n",
    "\n",
    "filename"
   ]
  },
  {
   "cell_type": "code",
   "execution_count": 30,
   "id": "c455de64",
   "metadata": {},
   "outputs": [
    {
     "data": {
      "image/png": "[encoded data removed]",
      "text/plain": [
       "<Figure size 640x480 with 1 Axes>"
      ]
     },
     "metadata": {},
     "output_type": "display_data"
    }
   ],
   "source": [
    "import pandas as pd\n",
    "import matplotlib.pyplot as plt\n",
    "from matplotlib.ticker import FuncFormatter, ScalarFormatter\n",
    "\n",
    "# Define a formatter function\n",
    "def thousands_formatter(x, pos):\n",
    "    return f'{int(x/1000)}k' if x >= 1000 else str(int(x))\n",
    "\n",
    "\n",
    "df = pd.read_csv(filename)\n",
    "\n",
    "\n",
    "# Filter to skip first 10,000 steps\n",
    "# df = df[df['Step'] > 1000]\n",
    "\n",
    "# Extract x and y\n",
    "x = df['Step']\n",
    "y = df['Value']\n",
    "\n",
    "# Apply exponential moving average (EMA) for smoothing\n",
    "smoothing_factor = 0.6  # Adjust this between 0 (no smoothing) and 1 (heavy smoothing)\n",
    "y_smooth = y.ewm(alpha=1 - smoothing_factor).mean()\n",
    "\n",
    "# Plot\n",
    "plt.plot(x, y_smooth, label='Learning Rate')\n",
    "\n",
    "# # Annotate last point\n",
    "# last_x = x.iloc[-1]\n",
    "# last_y = y.iloc[-1]\n",
    "# plt.text(\n",
    "#     last_x, last_y, f'{last_y:.4f}',  # formatted value\n",
    "#     fontsize=10, fontweight='bold', color='black',\n",
    "#     verticalalignment='top', horizontalalignment='right'\n",
    "# )\n",
    "\n",
    "# Format x-axis\n",
    "plt.gca().xaxis.set_major_formatter(FuncFormatter(thousands_formatter))\n",
    "\n",
    "# Format y-axis\n",
    "plt.gca().yaxis.set_major_formatter(ScalarFormatter(useMathText=True))\n",
    "plt.ticklabel_format(axis='y', style='sci', scilimits=(0, 0))\n",
    "\n",
    "# Custom legend\n",
    "plt.legend(loc='upper right', fontsize=12, frameon=True)\n",
    "\n",
    "# Labels and layout\n",
    "plt.xlabel('Step')\n",
    "plt.ylabel('Value')\n",
    "# plt.title('Learning Rate Curve')\n",
    "\n",
    "plt.grid(True)\n",
    "\n",
    "plt.savefig(f\"plots/{version:.1f}/learning-rate.pdf\", format='pdf')  # Save as PDF for LaTeX\n",
    "\n",
    "plt.show()"
   ]
  }
 ],
 "metadata": {
  "kernelspec": {
   "display_name": "myenv",
   "language": "python",
   "name": "python3"
  },
  "language_info": {
   "codemirror_mode": {
    "name": "ipython",
    "version": 3
   },
   "file_extension": ".py",
   "mimetype": "text/x-python",
   "name": "python",
   "nbconvert_exporter": "python",
   "pygments_lexer": "ipython3",
   "version": "3.9.14"
  }
 },
 "nbformat": 4,
 "nbformat_minor": 5
}
